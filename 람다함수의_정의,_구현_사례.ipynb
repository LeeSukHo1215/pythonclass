{
  "nbformat": 4,
  "nbformat_minor": 0,
  "metadata": {
    "colab": {
      "name": "람다함수의 정의, 구현 사례.ipynb",
      "provenance": [],
      "toc_visible": true,
      "authorship_tag": "ABX9TyO3eJTo5xiIptvWjMRrH7Wf",
      "include_colab_link": true
    },
    "kernelspec": {
      "name": "python3",
      "display_name": "Python 3"
    },
    "language_info": {
      "name": "python"
    }
  },
  "cells": [
    {
      "cell_type": "markdown",
      "metadata": {
        "id": "view-in-github",
        "colab_type": "text"
      },
      "source": [
        "<a href=\"https://colab.research.google.com/github/LeeSukHo1215/pythonclass/blob/main/%EB%9E%8C%EB%8B%A4%ED%95%A8%EC%88%98%EC%9D%98_%EC%A0%95%EC%9D%98%2C_%EA%B5%AC%ED%98%84_%EC%82%AC%EB%A1%80.ipynb\" target=\"_parent\"><img src=\"https://colab.research.google.com/assets/colab-badge.svg\" alt=\"Open In Colab\"/></a>"
      ]
    },
    {
      "cell_type": "markdown",
      "source": [
        "# 람다함수란?\n",
        "람다 함수는 프로그래밍 언어에서 사용되는 개념으로 익명 함수(Anonymous functions)를 지칭하는 용어입니다.<br/>\n",
        "\n",
        "간단하게 말하자면 단순하게 표현하는 방법입니다."
      ],
      "metadata": {
        "id": "FLzQKmxJV8Ys"
      }
    },
    {
      "cell_type": "markdown",
      "source": [
        "##람다함수 기본문법\n",
        "\n"
      ],
      "metadata": {
        "id": "IYwMna2w9fcQ"
      }
    },
    {
      "cell_type": "markdown",
      "source": [
        "lambda 인자: 표현식</br>\n"
      ],
      "metadata": {
        "id": "wGDeJpC2aOg4"
      }
    },
    {
      "cell_type": "code",
      "source": [
        "lambda x:x*10 # 예시"
      ],
      "metadata": {
        "colab": {
          "base_uri": "https://localhost:8080/"
        },
        "id": "C6LvUjFw9q8P",
        "outputId": "470198d9-1826-4867-ef71-46158704a236"
      },
      "execution_count": null,
      "outputs": [
        {
          "output_type": "execute_result",
          "data": {
            "text/plain": [
              "<function __main__.<lambda>>"
            ]
          },
          "metadata": {},
          "execution_count": 8
        }
      ]
    },
    {
      "cell_type": "markdown",
      "source": [
        "람다함수의 장점 : 코드의 간결화, 메모리절약</br>\n",
        "람다함수의 단점 : 직관적 이해가 어려워짐"
      ],
      "metadata": {
        "id": "AcrPcGTQZueY"
      }
    },
    {
      "cell_type": "markdown",
      "source": [
        "#람다함수의 구현 사례"
      ],
      "metadata": {
        "id": "xB6gnJQ6vh3v"
      }
    },
    {
      "cell_type": "markdown",
      "source": [
        "###일반함수"
      ],
      "metadata": {
        "id": "L2-3ldt8AZCT"
      }
    },
    {
      "cell_type": "code",
      "source": [
        "#일반함수\n",
        "def A(x):\n",
        "  return x%10==0 \n",
        "\n",
        "#람다함수\n",
        "A = lambda x:x%10==0\n"
      ],
      "metadata": {
        "id": "LsVPEs1O-Ox_"
      },
      "execution_count": null,
      "outputs": []
    },
    {
      "cell_type": "markdown",
      "source": [
        "###map 함수"
      ],
      "metadata": {
        "id": "Thhgv5Ff-W4X"
      }
    },
    {
      "cell_type": "code",
      "source": [
        "#일반 함수\n",
        "def A(x):\n",
        "  return x+2\n",
        "\n",
        "resuit = list(map(A,[1,2,3,4,5]))\n",
        "print(resuit)\n",
        "\n",
        "#람다 함수\n",
        "result2 = list(map((lambda x : x+2), [1,2,3,4,5]))\n",
        "print(result2)"
      ],
      "metadata": {
        "colab": {
          "base_uri": "https://localhost:8080/"
        },
        "id": "V94x40n2_HOg",
        "outputId": "d80b28e1-f829-41ac-ad2a-8fa8cf879ca6"
      },
      "execution_count": null,
      "outputs": [
        {
          "output_type": "stream",
          "name": "stdout",
          "text": [
            "[3, 4, 5, 6, 7]\n",
            "[3, 4, 5, 6, 7]\n"
          ]
        }
      ]
    },
    {
      "cell_type": "markdown",
      "source": [
        "###filter 함수"
      ],
      "metadata": {
        "id": "m_kkrmiJ-Lgo"
      }
    },
    {
      "cell_type": "code",
      "source": [
        "#일반함수\n",
        "def A(x):\n",
        "  return x%2 ==0\n",
        "result = list(filter(A, range(10)))\n",
        "print(result)\n",
        "\n",
        "#람다함수\n",
        "result2 = list(filter((lambda x:x%2==0),range(10)))\n",
        "print(result2)"
      ],
      "metadata": {
        "colab": {
          "base_uri": "https://localhost:8080/"
        },
        "id": "nVxu_LFz9-FH",
        "outputId": "7fad4f77-ebbe-4e87-c23d-f76cd31e1843"
      },
      "execution_count": null,
      "outputs": [
        {
          "output_type": "stream",
          "name": "stdout",
          "text": [
            "[0, 2, 4, 6, 8]\n",
            "[0, 2, 4, 6, 8]\n"
          ]
        }
      ]
    },
    {
      "cell_type": "markdown",
      "source": [
        "https://dojang.io/mod/page/view.php?id=2359"
      ],
      "metadata": {
        "id": "88heL-DKYYzY"
      }
    },
    {
      "cell_type": "markdown",
      "source": [
        ""
      ],
      "metadata": {
        "id": "S9eE-7NOY7CI"
      }
    },
    {
      "cell_type": "markdown",
      "source": [
        ""
      ],
      "metadata": {
        "id": "xnBEG8-sYr-w"
      }
    }
  ]
}